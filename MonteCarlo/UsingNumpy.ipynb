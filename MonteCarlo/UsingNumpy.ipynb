{
 "cells": [
  {
   "cell_type": "code",
   "execution_count": 1,
   "metadata": {
    "collapsed": true
   },
   "outputs": [],
   "source": [
    "import numpy as np\n",
    "import pandas as pd"
   ]
  },
  {
   "cell_type": "markdown",
   "metadata": {},
   "source": [
    "We will study the eigenvalue distribution of random symmetric matrices using NumPy. Our objective in this notebook will be to generate data that will be analyzed in a separate notebook. \n",
    "\n",
    "NumPy will be used to compute the data, which will be stored in a Pandas database. We will then save the data in a CSV file."
   ]
  },
  {
   "cell_type": "markdown",
   "metadata": {},
   "source": [
    "## Demonstration"
   ]
  },
  {
   "cell_type": "code",
   "execution_count": 2,
   "metadata": {
    "collapsed": false
   },
   "outputs": [
    {
     "name": "stdout",
     "output_type": "stream",
     "text": [
      "[[ 0.32206073 -0.17598479  0.71907044 -0.65395021  1.69109124]\n",
      " [ 1.175519   -0.68170401 -0.46051095  0.37821436  0.11357754]\n",
      " [-2.28617961 -0.88111796  0.3333679   0.25374682  1.0093433 ]\n",
      " [ 0.16080155  0.67469406 -0.12280111 -2.00555538  0.13864873]\n",
      " [-0.56273159 -0.57073639 -0.76282456  0.21701331 -0.82693156]]\n"
     ]
    }
   ],
   "source": [
    "n=5\n",
    "M=np.random.randn(n,n)\n",
    "print(M)"
   ]
  },
  {
   "cell_type": "code",
   "execution_count": 3,
   "metadata": {
    "collapsed": false
   },
   "outputs": [
    {
     "name": "stdout",
     "output_type": "stream",
     "text": [
      "[[ 0.32206073  0.49976711 -0.78355458 -0.24657433  0.56417983]\n",
      " [ 0.49976711 -0.68170401 -0.67081445  0.52645421 -0.22857943]\n",
      " [-0.78355458 -0.67081445  0.3333679   0.06547286  0.12325937]\n",
      " [-0.24657433  0.52645421  0.06547286 -2.00555538  0.17783102]\n",
      " [ 0.56417983 -0.22857943  0.12325937  0.17783102 -0.82693156]]\n"
     ]
    }
   ],
   "source": [
    "M=(M+M.T)/2\n",
    "print(M)"
   ]
  },
  {
   "cell_type": "code",
   "execution_count": 4,
   "metadata": {
    "collapsed": false
   },
   "outputs": [
    {
     "name": "stdout",
     "output_type": "stream",
     "text": [
      "[-2.34037873 -1.13147308 -0.81199364 -0.02905094  1.45413405]\n"
     ]
    }
   ],
   "source": [
    "w=np.linalg.eigvalsh(M) #Hermetian eigenvalues\n",
    "print(w)"
   ]
  },
  {
   "cell_type": "markdown",
   "metadata": {},
   "source": [
    "## Data generation\n",
    "\n",
    "Use a Python dictionary to store our results. \n",
    "\n",
    "Each of the elements of the dictionary must be a list of the same length."
   ]
  },
  {
   "cell_type": "code",
   "execution_count": 5,
   "metadata": {
    "collapsed": true
   },
   "outputs": [],
   "source": [
    "df={'n':[],\n",
    "    'sample':[],\n",
    "    'eigenvalues':[]\n",
    "   }\n",
    "nsample=40\n",
    "for n in [5,10,20,40,100]:\n",
    "  for sample in range(nsample):\n",
    "    M=np.random.randn(n,n)\n",
    "    M=M+M.T\n",
    "    w=np.linalg.eigvalsh(M)\n",
    "    df['n']+=[n]*n # this makes a list n long \n",
    "    df['sample']+=[sample]*n\n",
    "    df['eigenvalues']+=list(w)\n",
    "  "
   ]
  },
  {
   "cell_type": "code",
   "execution_count": 6,
   "metadata": {
    "collapsed": false
   },
   "outputs": [
    {
     "name": "stdout",
     "output_type": "stream",
     "text": [
      "      eigenvalues    n  sample\n",
      "0       -5.309022    5       0\n",
      "1       -2.873055    5       0\n",
      "2       -1.162407    5       0\n",
      "3        0.692094    5       0\n",
      "4        4.574199    5       0\n",
      "5       -6.336344    5       1\n",
      "6       -0.489910    5       1\n",
      "7        0.210429    5       1\n",
      "8        1.540272    5       1\n",
      "9        4.598000    5       1\n",
      "10      -5.107202    5       2\n",
      "11      -2.210910    5       2\n",
      "12      -1.044847    5       2\n",
      "13       3.003807    5       2\n",
      "14       5.029341    5       2\n",
      "15      -4.737656    5       3\n",
      "16      -0.208702    5       3\n",
      "17       0.762118    5       3\n",
      "18       3.508637    5       3\n",
      "19       6.340800    5       3\n",
      "20      -5.805864    5       4\n",
      "21      -4.373316    5       4\n",
      "22      -0.789561    5       4\n",
      "23       1.605939    5       4\n",
      "24       3.788008    5       4\n",
      "25      -5.021339    5       5\n",
      "26      -0.771096    5       5\n",
      "27       0.451586    5       5\n",
      "28       1.841965    5       5\n",
      "29       4.635712    5       5\n",
      "...           ...  ...     ...\n",
      "6970     9.788098  100      39\n",
      "6971    10.395224  100      39\n",
      "6972    10.795709  100      39\n",
      "6973    11.037088  100      39\n",
      "6974    11.240066  100      39\n",
      "6975    11.795567  100      39\n",
      "6976    12.488970  100      39\n",
      "6977    13.222879  100      39\n",
      "6978    13.268678  100      39\n",
      "6979    13.589167  100      39\n",
      "6980    14.539615  100      39\n",
      "6981    15.125359  100      39\n",
      "6982    16.044839  100      39\n",
      "6983    16.659160  100      39\n",
      "6984    16.755520  100      39\n",
      "6985    17.076119  100      39\n",
      "6986    17.749864  100      39\n",
      "6987    18.504365  100      39\n",
      "6988    18.826160  100      39\n",
      "6989    19.241766  100      39\n",
      "6990    19.867155  100      39\n",
      "6991    20.024947  100      39\n",
      "6992    21.193421  100      39\n",
      "6993    21.467914  100      39\n",
      "6994    22.962945  100      39\n",
      "6995    23.132285  100      39\n",
      "6996    24.620815  100      39\n",
      "6997    24.858184  100      39\n",
      "6998    25.939209  100      39\n",
      "6999    27.757134  100      39\n",
      "\n",
      "[7000 rows x 3 columns]\n"
     ]
    }
   ],
   "source": [
    "df=pd.DataFrame(df)\n",
    "df.to_csv(\"random_matrix.csv\",index=False)\n",
    "print(df)"
   ]
  },
  {
   "cell_type": "code",
   "execution_count": null,
   "metadata": {
    "collapsed": true
   },
   "outputs": [],
   "source": []
  }
 ],
 "metadata": {
  "kernelspec": {
   "display_name": "Python 3",
   "language": "python",
   "name": "python3"
  },
  "language_info": {
   "codemirror_mode": {
    "name": "ipython",
    "version": 3
   },
   "file_extension": ".py",
   "mimetype": "text/x-python",
   "name": "python",
   "nbconvert_exporter": "python",
   "pygments_lexer": "ipython3",
   "version": "3.5.3"
  }
 },
 "nbformat": 4,
 "nbformat_minor": 2
}
